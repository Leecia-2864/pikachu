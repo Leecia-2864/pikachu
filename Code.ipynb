{
 "cells": [
  {
   "cell_type": "code",
   "execution_count": 8,
   "id": "1be4f17f",
   "metadata": {},
   "outputs": [
    {
     "name": "stdout",
     "output_type": "stream",
     "text": [
      "For Charizard press 1, For Blastoise press 2, For Venusaur press 3 1\n"
     ]
    },
    {
     "ename": "UnboundLocalError",
     "evalue": "local variable 'user_hp' referenced before assignment",
     "output_type": "error",
     "traceback": [
      "\u001b[1;31m---------------------------------------------------------------------------\u001b[0m",
      "\u001b[1;31mUnboundLocalError\u001b[0m                         Traceback (most recent call last)",
      "\u001b[1;32m~\\AppData\\Local\\Temp/ipykernel_22324/1472416936.py\u001b[0m in \u001b[0;36m<module>\u001b[1;34m\u001b[0m\n\u001b[0;32m     75\u001b[0m         \u001b[0mend_of_turn\u001b[0m\u001b[1;33m(\u001b[0m\u001b[1;33m)\u001b[0m\u001b[1;33m\u001b[0m\u001b[1;33m\u001b[0m\u001b[0m\n\u001b[0;32m     76\u001b[0m     \u001b[1;32melse\u001b[0m\u001b[1;33m:\u001b[0m\u001b[1;33m\u001b[0m\u001b[1;33m\u001b[0m\u001b[0m\n\u001b[1;32m---> 77\u001b[1;33m         \u001b[0mbattle_computer\u001b[0m\u001b[1;33m(\u001b[0m\u001b[1;33m)\u001b[0m\u001b[1;33m\u001b[0m\u001b[1;33m\u001b[0m\u001b[0m\n\u001b[0m\u001b[0;32m     78\u001b[0m         \u001b[0mend_of_turn\u001b[0m\u001b[1;33m(\u001b[0m\u001b[1;33m)\u001b[0m\u001b[1;33m\u001b[0m\u001b[1;33m\u001b[0m\u001b[0m\n\u001b[0;32m     79\u001b[0m     \u001b[0mcounter\u001b[0m \u001b[1;33m+=\u001b[0m \u001b[1;36m1\u001b[0m\u001b[1;33m\u001b[0m\u001b[1;33m\u001b[0m\u001b[0m\n",
      "\u001b[1;32m~\\AppData\\Local\\Temp/ipykernel_22324/1472416936.py\u001b[0m in \u001b[0;36mbattle_computer\u001b[1;34m()\u001b[0m\n\u001b[0;32m     37\u001b[0m     \u001b[0mturn_attack\u001b[0m \u001b[1;33m=\u001b[0m \u001b[0mrandom\u001b[0m\u001b[1;33m.\u001b[0m\u001b[0mchoice\u001b[0m\u001b[1;33m(\u001b[0m\u001b[0mcomputer_list\u001b[0m\u001b[1;33m)\u001b[0m\u001b[1;33m\u001b[0m\u001b[1;33m\u001b[0m\u001b[0m\n\u001b[0;32m     38\u001b[0m     \u001b[0mturn_attack_value\u001b[0m \u001b[1;33m=\u001b[0m \u001b[0mcomputer_pokemon\u001b[0m\u001b[1;33m.\u001b[0m\u001b[0mget\u001b[0m\u001b[1;33m(\u001b[0m\u001b[0mturn_attack\u001b[0m\u001b[1;33m)\u001b[0m\u001b[1;33m\u001b[0m\u001b[1;33m\u001b[0m\u001b[0m\n\u001b[1;32m---> 39\u001b[1;33m     \u001b[0muser_hp\u001b[0m \u001b[1;33m-=\u001b[0m \u001b[0mturn_attack_value\u001b[0m\u001b[1;33m\u001b[0m\u001b[1;33m\u001b[0m\u001b[0m\n\u001b[0m\u001b[0;32m     40\u001b[0m     \u001b[1;32mreturn\u001b[0m\u001b[1;33m\u001b[0m\u001b[1;33m\u001b[0m\u001b[0m\n\u001b[0;32m     41\u001b[0m \u001b[1;33m\u001b[0m\u001b[0m\n",
      "\u001b[1;31mUnboundLocalError\u001b[0m: local variable 'user_hp' referenced before assignment"
     ]
    }
   ],
   "source": [
    "import random\n",
    "\n",
    "Charizard = {'Flamethrower' : 25, 'Fly' : 20, 'Blast Burn' : 22, 'Fire Punch' : 16}\n",
    "Blastoise = {'Water Gun' : 16, 'Bubblebeam' : 20, 'Hydro Pump' : 22, 'Surf' : 25}\n",
    "Venusaur = {'Vine Wip' : 19, 'Razor Leaf' : 24, 'Earthquake' : 28, 'Frenzy Plant' : 22}\n",
    "pokemons = [Charizard,Blastoise,Venusaur]\n",
    "\n",
    "user_hp = 100\n",
    "computer_hp = 100\n",
    "user_list = []\n",
    "computer_list = []\n",
    "\n",
    "choice = input(\"For Charizard press 1, For Blastoise press 2, For Venusaur press 3 \")\n",
    "if choice == 1:\n",
    "    user_pokemon = Charizard\n",
    "elif choice == 2:\n",
    "    user_pokemon = Blastoise\n",
    "else:\n",
    "    user_pokemon = Venusaur\n",
    "    \n",
    "computer_pokemon = random.choice(pokemons)\n",
    "\n",
    "for i in user_pokemon.keys():\n",
    "    user_list.append(i)\n",
    "\n",
    "attack1 = str(user_list[0])\n",
    "attack2 = str(user_list[1])\n",
    "attack3 = str(user_list[2])\n",
    "attack4 = str(user_list[3])\n",
    "    \n",
    "    \n",
    "for i in computer_pokemon.keys():\n",
    "    computer_list.append(i)\n",
    "\n",
    "    \n",
    "def battle_computer():\n",
    "    turn_attack = random.choice(computer_list)\n",
    "    turn_attack_value = computer_pokemon.get(turn_attack)\n",
    "    user_hp -= turn_attack_value\n",
    "    return\n",
    "\n",
    "\n",
    "\n",
    "def user_battle():\n",
    "    turn_input = input(f\"For {attack1} press 1, for {attack2} press 2, for {attack3} press 3, for {attack4} press 4\")\n",
    "    \n",
    "    if turn_input == 1:\n",
    "        turn_attack = user_list[0]\n",
    "    elif turn_input == 2:\n",
    "        turn_attack = user_list[1]\n",
    "    elif turn_input == 3:\n",
    "        turn_attack = user_list[2]\n",
    "    elif turn_input == 4:\n",
    "        turn_attack = user_list[3]\n",
    "        \n",
    "    turn_attack_value = user_pokemon.get(turn_attack)\n",
    "    computer_hp -= turn_attack_value\n",
    "    return\n",
    "\n",
    "\n",
    "\n",
    "def end_of_turn():\n",
    "    print(\"Your current hp is: \",user_hp)\n",
    "    print(\"Computer current hp is: \",computer_hp)\n",
    "    return\n",
    "\n",
    "\n",
    "\n",
    "\n",
    "counter = 1\n",
    "\n",
    "while user_hp > 0 and computer_hp > 0:\n",
    "    if counter%2 == 0:\n",
    "        user_battle()\n",
    "        end_of_turn()\n",
    "    else:\n",
    "        battle_computer()\n",
    "        end_of_turn()\n",
    "    counter += 1\n",
    "\n",
    "if user_hp > 0:\n",
    "    print(\"You win\")\n",
    "else:\n",
    "    print(\"You lose\")"
   ]
  },
  {
   "cell_type": "code",
   "execution_count": 2,
   "id": "be2b109a",
   "metadata": {},
   "outputs": [],
   "source": []
  },
  {
   "cell_type": "code",
   "execution_count": 3,
   "id": "7b527600",
   "metadata": {},
   "outputs": [],
   "source": []
  },
  {
   "cell_type": "code",
   "execution_count": 4,
   "id": "a76efcc4",
   "metadata": {},
   "outputs": [],
   "source": []
  },
  {
   "cell_type": "code",
   "execution_count": null,
   "id": "bb23ba9c",
   "metadata": {},
   "outputs": [],
   "source": []
  },
  {
   "cell_type": "code",
   "execution_count": null,
   "id": "b2c91fcc",
   "metadata": {},
   "outputs": [],
   "source": []
  },
  {
   "cell_type": "code",
   "execution_count": null,
   "id": "549d7503",
   "metadata": {},
   "outputs": [],
   "source": []
  },
  {
   "cell_type": "code",
   "execution_count": null,
   "id": "d07b5a56",
   "metadata": {},
   "outputs": [],
   "source": []
  },
  {
   "cell_type": "code",
   "execution_count": null,
   "id": "1b87a758",
   "metadata": {},
   "outputs": [],
   "source": []
  },
  {
   "cell_type": "code",
   "execution_count": null,
   "id": "6f1cf83a",
   "metadata": {},
   "outputs": [],
   "source": []
  },
  {
   "cell_type": "code",
   "execution_count": null,
   "id": "f83c78a7",
   "metadata": {},
   "outputs": [],
   "source": []
  }
 ],
 "metadata": {
  "kernelspec": {
   "display_name": "Python 3 (ipykernel)",
   "language": "python",
   "name": "python3"
  },
  "language_info": {
   "codemirror_mode": {
    "name": "ipython",
    "version": 3
   },
   "file_extension": ".py",
   "mimetype": "text/x-python",
   "name": "python",
   "nbconvert_exporter": "python",
   "pygments_lexer": "ipython3",
   "version": "3.9.7"
  }
 },
 "nbformat": 4,
 "nbformat_minor": 5
}
