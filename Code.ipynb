{
 "cells": [
  {
   "cell_type": "code",
   "execution_count": null,
   "id": "1be4f17f",
   "metadata": {},
   "outputs": [],
   "source": [
    "Charizard = {'Flamethrower' : range(22,27), 'Fly' : range(17,20), 'Blast Burn' : range(28,32), 'Fire Punch' : range(12,16)}\n",
    "Blastoise = {'Water Gun' : range(22,27), 'Bubblebeam' : range(12,16), 'Hydro Pump' : range(28,32), 'Surf' : range(17,20)}\n",
    "Venusaur = {'Vine Wip' : range(22,27), 'Razor Leaf' : range(12,16), 'Earthquake' : range(28,32), 'Frenzy Plant' : range(17,20)}\n",
    "\n",
    "choice = input(\"For Charizard press 1, For Blastoise press 2, For Venusaur press 3 \")\n",
    "if choice == 1:\n",
    "    user_pokemon = Charizard\n",
    "elif choice == 2:\n",
    "    user_pokemon = Blastoise\n",
    "else:\n",
    "    user_pokemon = Venusaur\n"
   ]
  }
 ],
 "metadata": {
  "kernelspec": {
   "display_name": "Python 3 (ipykernel)",
   "language": "python",
   "name": "python3"
  },
  "language_info": {
   "codemirror_mode": {
    "name": "ipython",
    "version": 3
   },
   "file_extension": ".py",
   "mimetype": "text/x-python",
   "name": "python",
   "nbconvert_exporter": "python",
   "pygments_lexer": "ipython3",
   "version": "3.9.7"
  }
 },
 "nbformat": 4,
 "nbformat_minor": 5
}
