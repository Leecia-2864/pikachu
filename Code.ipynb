{
 "cells": [
  {
   "cell_type": "code",
   "execution_count": 1,
   "id": "1be4f17f",
   "metadata": {},
   "outputs": [
    {
     "name": "stdout",
     "output_type": "stream",
     "text": [
      "For Charizard press 1, For Blastoise press 2, For Venusaur press 3 1\n"
     ]
    }
   ],
   "source": [
    "import random\n",
    "\n",
    "Charizard = {'Flamethrower' : 25, 'Fly' : 20, 'Blast Burn' : 22, 'Fire Punch' : 16}\n",
    "Blastoise = {'Water Gun' : 16, 'Bubblebeam' : 20, 'Hydro Pump' : 22, 'Surf' : 25}\n",
    "Venusaur = {'Vine Wip' : 19, 'Razor Leaf' : 24, 'Earthquake' : 28, 'Frenzy Plant' : 22}\n",
    "pokemons = [Charizard,Blastoise,Venusaur]\n",
    "\n",
    "user_hp = 100\n",
    "computer_hp = 100\n",
    "user_list = []\n",
    "computer_list = []\n",
    "\n",
    "choice = input(\"For Charizard press 1, For Blastoise press 2, For Venusaur press 3 \")\n",
    "if choice == 1:\n",
    "    user_pokemon = Charizard\n",
    "elif choice == 2:\n",
    "    user_pokemon = Blastoise\n",
    "else:\n",
    "    user_pokemon = Venusaur\n",
    "    \n",
    "computer_pokemon = random.choice(pokemons)\n",
    "\n",
    "for i in user_pokemon.keys():\n",
    "    user_list.append(i)\n",
    "\n",
    "for i in computer_pokemon.keys():\n",
    "    computer_list.append(i)"
   ]
  },
  {
   "cell_type": "code",
   "execution_count": 2,
   "id": "08ac855b",
   "metadata": {},
   "outputs": [],
   "source": [
    "def battle_computer():\n",
    "    turn_attack = random.choice(computer_list)\n",
    "    turn_attack_value = computer_pokemon.get(turn_attack)\n",
    "    user_hp = user_hp - turn_attack_value\n",
    "    return"
   ]
  },
  {
   "cell_type": "code",
   "execution_count": 3,
   "id": "6e0f2243",
   "metadata": {},
   "outputs": [
    {
     "ename": "SyntaxError",
     "evalue": "invalid syntax (Temp/ipykernel_15052/1541527395.py, line 4)",
     "output_type": "error",
     "traceback": [
      "\u001b[1;36m  File \u001b[1;32m\"C:\\Users\\matui\\AppData\\Local\\Temp/ipykernel_15052/1541527395.py\"\u001b[1;36m, line \u001b[1;32m4\u001b[0m\n\u001b[1;33m    if turn_input\u001b[0m\n\u001b[1;37m                 ^\u001b[0m\n\u001b[1;31mSyntaxError\u001b[0m\u001b[1;31m:\u001b[0m invalid syntax\n"
     ]
    }
   ],
   "source": [
    "def user_battle():\n",
    "    turn_input = input()\n",
    "    \n",
    "    if turn_input\n",
    "        turn_attack\n",
    "    \n",
    "    turn_attack_value = computer_pokemon.get(turn_attack)\n",
    "    computer_hp = computer_hp - turn_attack_value"
   ]
  },
  {
   "cell_type": "code",
   "execution_count": 5,
   "id": "cf713bde",
   "metadata": {},
   "outputs": [
    {
     "ename": "ValueError",
     "evalue": "incomplete format",
     "output_type": "error",
     "traceback": [
      "\u001b[1;31m---------------------------------------------------------------------------\u001b[0m",
      "\u001b[1;31mValueError\u001b[0m                                Traceback (most recent call last)",
      "\u001b[1;32m~\\AppData\\Local\\Temp/ipykernel_15052/703342562.py\u001b[0m in \u001b[0;36m<module>\u001b[1;34m\u001b[0m\n\u001b[1;32m----> 1\u001b[1;33m \u001b[0mq\u001b[0m \u001b[1;33m=\u001b[0m \u001b[0minput\u001b[0m\u001b[1;33m(\u001b[0m\u001b[1;34m\"Press 1 for %.\"\u001b[0m \u001b[1;33m%\u001b[0m\u001b[1;33m{\u001b[0m\u001b[0muser_hp\u001b[0m\u001b[1;33m}\u001b[0m\u001b[1;33m)\u001b[0m\u001b[1;33m\u001b[0m\u001b[1;33m\u001b[0m\u001b[0m\n\u001b[0m",
      "\u001b[1;31mValueError\u001b[0m: incomplete format"
     ]
    }
   ],
   "source": [
    "q = input(\"Press 1 for %.\" %{user_hp})"
   ]
  },
  {
   "cell_type": "code",
   "execution_count": null,
   "id": "43762dbf",
   "metadata": {},
   "outputs": [],
   "source": []
  },
  {
   "cell_type": "code",
   "execution_count": null,
   "id": "a4c3b6e0",
   "metadata": {},
   "outputs": [],
   "source": []
  }
 ],
 "metadata": {
  "kernelspec": {
   "display_name": "Python 3 (ipykernel)",
   "language": "python",
   "name": "python3"
  },
  "language_info": {
   "codemirror_mode": {
    "name": "ipython",
    "version": 3
   },
   "file_extension": ".py",
   "mimetype": "text/x-python",
   "name": "python",
   "nbconvert_exporter": "python",
   "pygments_lexer": "ipython3",
   "version": "3.9.7"
  }
 },
 "nbformat": 4,
 "nbformat_minor": 5
}
