{
 "cells": [
  {
   "cell_type": "code",
   "execution_count": 14,
   "id": "5c81fc81",
   "metadata": {},
   "outputs": [],
   "source": [
    "import random\n",
    "\n",
    "Charizard = {'Flamethrower' : 25, 'Fly' : 20, 'Blast Burn' : 22, 'Fire Punch' : 16}\n",
    "Blastoise = {'Water Gun' : 16, 'Bubblebeam' : 20, 'Hydro Pump' : 22, 'Surf' : 25}\n",
    "Venusaur = {'Vine Wip' : 19, 'Razor Leaf' : 24, 'Earthquake' : 28, 'Frenzy Plant' : 22}\n",
    "pokemons = [Charizard,Blastoise,Venusaur]\n",
    "user_hp = 100\n",
    "computer_hp = 100\n",
    "user_list = []\n",
    "computer_list = []"
   ]
  },
  {
   "cell_type": "code",
   "execution_count": 15,
   "id": "3bcd9b52",
   "metadata": {},
   "outputs": [
    {
     "name": "stdout",
     "output_type": "stream",
     "text": [
      "For Charizard press 1, For Blastoise press 2, For Venusaur press 3 1\n"
     ]
    }
   ],
   "source": [
    "choice = input(\"For Charizard press 1, For Blastoise press 2, For Venusaur press 3 \")\n",
    "if choice == 1:\n",
    "    user_pokemon = Charizard\n",
    "elif choice == 2:\n",
    "    user_pokemon = Blastoise\n",
    "else:\n",
    "    user_pokemon = Venusaur\n",
    "    \n",
    "computer_pokemon = random.choice(pokemons)\n",
    "\n",
    "for i in user_pokemon.keys():\n",
    "    user_list.append(i)\n",
    "\n",
    "attack1 = user_list[0]\n",
    "attack2 = user_list[1]\n",
    "attack3 = user_list[2]\n",
    "attack4 = user_list[3]\n",
    "    \n",
    "    \n",
    "for i in computer_pokemon.keys():\n",
    "    computer_list.append(i)"
   ]
  },
  {
   "cell_type": "code",
   "execution_count": 16,
   "id": "4a58d7d0",
   "metadata": {},
   "outputs": [],
   "source": [
    "def battle_computer(x,c):\n",
    "    computer_turn_attack = random.choice(c)\n",
    "    computer_turn_attack_value = computer_pokemon.get(computer_turn_attack)\n",
    "    z = x - computer_turn_attack_value\n",
    "    return z\n",
    "\n"
   ]
  },
  {
   "cell_type": "code",
   "execution_count": 20,
   "id": "802011f5",
   "metadata": {},
   "outputs": [],
   "source": [
    "def user_battle(x,c):\n",
    "    turn_input = input(f\"For {c[0]} press 1, for {c[1]} press 2, for {c[2]} press 3, for {c[3]} press 4\")\n",
    "    \n",
    "    if turn_input == 1:\n",
    "        turn_attack = c[0]\n",
    "    elif turn_input == 2:\n",
    "        turn_attack = c[1]\n",
    "    elif turn_input == 3:\n",
    "        turn_attack = c[2]\n",
    "    elif turn_input == 4:\n",
    "        turn_attack = c[3]\n",
    "        \n",
    "    turn_attack_value = user_pokemon.get(turn_attack)\n",
    "    z = x - turn_attack_value\n",
    "    return z\n",
    "\n",
    "\n"
   ]
  },
  {
   "cell_type": "code",
   "execution_count": 32,
   "id": "0183c53c",
   "metadata": {},
   "outputs": [
    {
     "data": {
      "text/plain": [
       "'Vine Wip'"
      ]
     },
     "execution_count": 32,
     "metadata": {},
     "output_type": "execute_result"
    }
   ],
   "source": []
  },
  {
   "cell_type": "code",
   "execution_count": 33,
   "id": "577d71eb",
   "metadata": {},
   "outputs": [
    {
     "name": "stdout",
     "output_type": "stream",
     "text": [
      "For Vine Wip press 1, for Razor Leaf press 2, for Earthquake press 3, for Frenzy Plant press 41\n"
     ]
    },
    {
     "data": {
      "text/plain": [
       "'Vine Wip'"
      ]
     },
     "execution_count": 33,
     "metadata": {},
     "output_type": "execute_result"
    }
   ],
   "source": [
    "c=user_list\n",
    "turn_input = int(input(f\"For {c[0]} press 1, for {c[1]} press 2, for {c[2]} press 3, for {c[3]} press 4\"))\n",
    "\n",
    "if turn_input == 1:\n",
    "    turn_attack = c[0]\n",
    "elif turn_input == 2:\n",
    "    turn_attack = c[1]\n",
    "elif turn_input == 3:\n",
    "    turn_attack = c[2]\n",
    "elif turn_input == 4:\n",
    "    turn_attack = c[3]\n",
    "turn_attack"
   ]
  },
  {
   "cell_type": "code",
   "execution_count": 21,
   "id": "c5be0c1d",
   "metadata": {},
   "outputs": [],
   "source": [
    "def end_of_turn(x,y):\n",
    "    print(\"Your current hp is: \",x)\n",
    "    print(\"Computer current hp is: \",y)\n",
    "    return"
   ]
  },
  {
   "cell_type": "code",
   "execution_count": 24,
   "id": "13eddc5c",
   "metadata": {},
   "outputs": [
    {
     "name": "stdout",
     "output_type": "stream",
     "text": [
      "For Vine Wip press 1, for Razor Leaf press 2, for Earthquake press 3, for Frenzy Plant press 41\n"
     ]
    },
    {
     "ename": "UnboundLocalError",
     "evalue": "local variable 'turn_attack' referenced before assignment",
     "output_type": "error",
     "traceback": [
      "\u001b[1;31m---------------------------------------------------------------------------\u001b[0m",
      "\u001b[1;31mUnboundLocalError\u001b[0m                         Traceback (most recent call last)",
      "\u001b[1;32m~\\AppData\\Local\\Temp/ipykernel_27544/746493830.py\u001b[0m in \u001b[0;36m<module>\u001b[1;34m\u001b[0m\n\u001b[1;32m----> 1\u001b[1;33m \u001b[0mcomputer_hp\u001b[0m \u001b[1;33m=\u001b[0m \u001b[0muser_battle\u001b[0m\u001b[1;33m(\u001b[0m\u001b[0mcomputer_hp\u001b[0m\u001b[1;33m,\u001b[0m\u001b[0muser_list\u001b[0m\u001b[1;33m)\u001b[0m\u001b[1;33m\u001b[0m\u001b[1;33m\u001b[0m\u001b[0m\n\u001b[0m",
      "\u001b[1;32m~\\AppData\\Local\\Temp/ipykernel_27544/256280659.py\u001b[0m in \u001b[0;36muser_battle\u001b[1;34m(x, c)\u001b[0m\n\u001b[0;32m     11\u001b[0m         \u001b[0mturn_attack\u001b[0m \u001b[1;33m=\u001b[0m \u001b[0mc\u001b[0m\u001b[1;33m[\u001b[0m\u001b[1;36m3\u001b[0m\u001b[1;33m]\u001b[0m\u001b[1;33m\u001b[0m\u001b[1;33m\u001b[0m\u001b[0m\n\u001b[0;32m     12\u001b[0m \u001b[1;33m\u001b[0m\u001b[0m\n\u001b[1;32m---> 13\u001b[1;33m     \u001b[0mturn_attack_value\u001b[0m \u001b[1;33m=\u001b[0m \u001b[0muser_pokemon\u001b[0m\u001b[1;33m.\u001b[0m\u001b[0mget\u001b[0m\u001b[1;33m(\u001b[0m\u001b[0mturn_attack\u001b[0m\u001b[1;33m)\u001b[0m\u001b[1;33m\u001b[0m\u001b[1;33m\u001b[0m\u001b[0m\n\u001b[0m\u001b[0;32m     14\u001b[0m     \u001b[0mz\u001b[0m \u001b[1;33m=\u001b[0m \u001b[0mx\u001b[0m \u001b[1;33m-\u001b[0m \u001b[0mturn_attack_value\u001b[0m\u001b[1;33m\u001b[0m\u001b[1;33m\u001b[0m\u001b[0m\n\u001b[0;32m     15\u001b[0m     \u001b[1;32mreturn\u001b[0m \u001b[0mz\u001b[0m\u001b[1;33m\u001b[0m\u001b[1;33m\u001b[0m\u001b[0m\n",
      "\u001b[1;31mUnboundLocalError\u001b[0m: local variable 'turn_attack' referenced before assignment"
     ]
    }
   ],
   "source": [
    "computer_hp = user_battle(computer_hp,user_list)"
   ]
  },
  {
   "cell_type": "code",
   "execution_count": 22,
   "id": "4a0163ff",
   "metadata": {},
   "outputs": [
    {
     "name": "stdout",
     "output_type": "stream",
     "text": [
      "Your current hp is:  59\n",
      "Computer current hp is:  100\n",
      "For Vine Wip press 1, for Razor Leaf press 2, for Earthquake press 3, for Frenzy Plant press 41\n"
     ]
    },
    {
     "ename": "UnboundLocalError",
     "evalue": "local variable 'turn_attack' referenced before assignment",
     "output_type": "error",
     "traceback": [
      "\u001b[1;31m---------------------------------------------------------------------------\u001b[0m",
      "\u001b[1;31mUnboundLocalError\u001b[0m                         Traceback (most recent call last)",
      "\u001b[1;32m~\\AppData\\Local\\Temp/ipykernel_27544/2582590217.py\u001b[0m in \u001b[0;36m<module>\u001b[1;34m\u001b[0m\n\u001b[0;32m      2\u001b[0m \u001b[1;32mwhile\u001b[0m \u001b[0muser_hp\u001b[0m \u001b[1;33m>\u001b[0m \u001b[1;36m0\u001b[0m \u001b[1;32mand\u001b[0m \u001b[0mcomputer_hp\u001b[0m \u001b[1;33m>\u001b[0m \u001b[1;36m0\u001b[0m\u001b[1;33m:\u001b[0m\u001b[1;33m\u001b[0m\u001b[1;33m\u001b[0m\u001b[0m\n\u001b[0;32m      3\u001b[0m     \u001b[1;32mif\u001b[0m \u001b[0mcounter\u001b[0m\u001b[1;33m%\u001b[0m\u001b[1;36m2\u001b[0m \u001b[1;33m==\u001b[0m \u001b[1;36m0\u001b[0m\u001b[1;33m:\u001b[0m\u001b[1;33m\u001b[0m\u001b[1;33m\u001b[0m\u001b[0m\n\u001b[1;32m----> 4\u001b[1;33m         \u001b[0mcomputer_hp\u001b[0m \u001b[1;33m=\u001b[0m \u001b[0muser_battle\u001b[0m\u001b[1;33m(\u001b[0m\u001b[0mcomputer_hp\u001b[0m\u001b[1;33m,\u001b[0m\u001b[0muser_list\u001b[0m\u001b[1;33m)\u001b[0m\u001b[1;33m\u001b[0m\u001b[1;33m\u001b[0m\u001b[0m\n\u001b[0m\u001b[0;32m      5\u001b[0m         \u001b[0mend_of_turn\u001b[0m\u001b[1;33m(\u001b[0m\u001b[0muser_hp\u001b[0m\u001b[1;33m,\u001b[0m\u001b[0mcomputer_hp\u001b[0m\u001b[1;33m)\u001b[0m\u001b[1;33m\u001b[0m\u001b[1;33m\u001b[0m\u001b[0m\n\u001b[0;32m      6\u001b[0m     \u001b[1;32melse\u001b[0m\u001b[1;33m:\u001b[0m\u001b[1;33m\u001b[0m\u001b[1;33m\u001b[0m\u001b[0m\n",
      "\u001b[1;32m~\\AppData\\Local\\Temp/ipykernel_27544/256280659.py\u001b[0m in \u001b[0;36muser_battle\u001b[1;34m(x, c)\u001b[0m\n\u001b[0;32m     11\u001b[0m         \u001b[0mturn_attack\u001b[0m \u001b[1;33m=\u001b[0m \u001b[0mc\u001b[0m\u001b[1;33m[\u001b[0m\u001b[1;36m3\u001b[0m\u001b[1;33m]\u001b[0m\u001b[1;33m\u001b[0m\u001b[1;33m\u001b[0m\u001b[0m\n\u001b[0;32m     12\u001b[0m \u001b[1;33m\u001b[0m\u001b[0m\n\u001b[1;32m---> 13\u001b[1;33m     \u001b[0mturn_attack_value\u001b[0m \u001b[1;33m=\u001b[0m \u001b[0muser_pokemon\u001b[0m\u001b[1;33m.\u001b[0m\u001b[0mget\u001b[0m\u001b[1;33m(\u001b[0m\u001b[0mturn_attack\u001b[0m\u001b[1;33m)\u001b[0m\u001b[1;33m\u001b[0m\u001b[1;33m\u001b[0m\u001b[0m\n\u001b[0m\u001b[0;32m     14\u001b[0m     \u001b[0mz\u001b[0m \u001b[1;33m=\u001b[0m \u001b[0mx\u001b[0m \u001b[1;33m-\u001b[0m \u001b[0mturn_attack_value\u001b[0m\u001b[1;33m\u001b[0m\u001b[1;33m\u001b[0m\u001b[0m\n\u001b[0;32m     15\u001b[0m     \u001b[1;32mreturn\u001b[0m \u001b[0mz\u001b[0m\u001b[1;33m\u001b[0m\u001b[1;33m\u001b[0m\u001b[0m\n",
      "\u001b[1;31mUnboundLocalError\u001b[0m: local variable 'turn_attack' referenced before assignment"
     ]
    }
   ],
   "source": [
    "counter = 1\n",
    "while user_hp > 0 and computer_hp > 0:\n",
    "    if counter%2 == 0:\n",
    "        computer_hp = user_battle(computer_hp,user_list)\n",
    "        end_of_turn(user_hp,computer_hp)\n",
    "    else:\n",
    "        user_hp = battle_computer(user_hp,computer_list)\n",
    "        end_of_turn(user_hp,computer_hp)\n",
    "    counter += 1\n"
   ]
  },
  {
   "cell_type": "code",
   "execution_count": null,
   "id": "64584631",
   "metadata": {},
   "outputs": [],
   "source": [
    "\n",
    "\n",
    "if user_hp > 0:\n",
    "    print(\"You win\")\n",
    "else:\n",
    "    print(\"You lose\")"
   ]
  }
 ],
 "metadata": {
  "kernelspec": {
   "display_name": "Python 3 (ipykernel)",
   "language": "python",
   "name": "python3"
  },
  "language_info": {
   "codemirror_mode": {
    "name": "ipython",
    "version": 3
   },
   "file_extension": ".py",
   "mimetype": "text/x-python",
   "name": "python",
   "nbconvert_exporter": "python",
   "pygments_lexer": "ipython3",
   "version": "3.9.7"
  }
 },
 "nbformat": 4,
 "nbformat_minor": 5
}
